{
 "cells": [
  {
   "cell_type": "markdown",
   "metadata": {},
   "source": [
    "ex1: Practice on titanic dataset\n",
    "\n",
    "install ydata-profiling \n",
    "#pip install ipywidgets\n",
    "\n",
    "ex2: load dataset and create profile \n",
    "\n",
    "ex3: preprocess data\n",
    "- Drop PassengerId, Name, Cabin, Ticket\n",
    "- Fill mean value for Age missing cells\n",
    "- Separate Survived for y\n",
    "- Encode text-based category columns to int\n",
    "- Train-test split with random = 0\n",
    "\n",
    "ex4: choose your own models, train, and test with corresponding sets"
   ]
  },
  {
   "cell_type": "code",
   "execution_count": 579,
   "metadata": {},
   "outputs": [],
   "source": [
    "import pandas as pd\n",
    "import numpy as np\n",
    "from sklearn.model_selection import train_test_split\n",
    "\n",
    "from ydata_profiling import ProfileReport"
   ]
  },
  {
   "cell_type": "code",
   "execution_count": 580,
   "metadata": {},
   "outputs": [
    {
     "name": "stdout",
     "output_type": "stream",
     "text": [
      "<class 'pandas.core.frame.DataFrame'>\n",
      "RangeIndex: 891 entries, 0 to 890\n",
      "Data columns (total 12 columns):\n",
      " #   Column       Non-Null Count  Dtype  \n",
      "---  ------       --------------  -----  \n",
      " 0   PassengerId  891 non-null    int64  \n",
      " 1   Survived     891 non-null    int64  \n",
      " 2   Pclass       891 non-null    int64  \n",
      " 3   Name         891 non-null    object \n",
      " 4   Sex          891 non-null    object \n",
      " 5   Age          714 non-null    float64\n",
      " 6   SibSp        891 non-null    int64  \n",
      " 7   Parch        891 non-null    int64  \n",
      " 8   Ticket       891 non-null    object \n",
      " 9   Fare         891 non-null    float64\n",
      " 10  Cabin        204 non-null    object \n",
      " 11  Embarked     889 non-null    object \n",
      "dtypes: float64(2), int64(5), object(5)\n",
      "memory usage: 83.7+ KB\n"
     ]
    }
   ],
   "source": [
    "train_df = pd.read_csv('datasets/train_titanic.csv')\n",
    "train_df.info()"
   ]
  },
  {
   "cell_type": "code",
   "execution_count": 581,
   "metadata": {},
   "outputs": [
    {
     "name": "stdout",
     "output_type": "stream",
     "text": [
      "<class 'pandas.core.frame.DataFrame'>\n",
      "RangeIndex: 418 entries, 0 to 417\n",
      "Data columns (total 11 columns):\n",
      " #   Column       Non-Null Count  Dtype  \n",
      "---  ------       --------------  -----  \n",
      " 0   PassengerId  418 non-null    int64  \n",
      " 1   Pclass       418 non-null    int64  \n",
      " 2   Name         418 non-null    object \n",
      " 3   Sex          418 non-null    object \n",
      " 4   Age          332 non-null    float64\n",
      " 5   SibSp        418 non-null    int64  \n",
      " 6   Parch        418 non-null    int64  \n",
      " 7   Ticket       418 non-null    object \n",
      " 8   Fare         417 non-null    float64\n",
      " 9   Cabin        91 non-null     object \n",
      " 10  Embarked     418 non-null    object \n",
      "dtypes: float64(2), int64(4), object(5)\n",
      "memory usage: 36.1+ KB\n"
     ]
    }
   ],
   "source": [
    "test_df = pd.read_csv('datasets/test_titanic.csv')\n",
    "test_df.info()"
   ]
  },
  {
   "cell_type": "code",
   "execution_count": 582,
   "metadata": {},
   "outputs": [],
   "source": [
    "profile_titanic = ProfileReport(train_df, title=\"Info Titanic Dataset\")\n",
    "# profile_titanic"
   ]
  },
  {
   "cell_type": "markdown",
   "metadata": {},
   "source": [
    "Ex3 Preprocess Data"
   ]
  },
  {
   "cell_type": "markdown",
   "metadata": {},
   "source": [
    "- Drop PassengerId, Name, Cabin, Ticket"
   ]
  },
  {
   "cell_type": "code",
   "execution_count": 583,
   "metadata": {},
   "outputs": [],
   "source": [
    "train_df.drop(columns=['PassengerId', 'Name', 'Cabin', 'Ticket'], inplace= True, errors='ignore')\n",
    "test_df.drop(columns=['PassengerId', 'Name', 'Cabin', 'Ticket'], inplace= True, errors='ignore')"
   ]
  },
  {
   "cell_type": "markdown",
   "metadata": {},
   "source": [
    "- Fill mean value for Age missing cells"
   ]
  },
  {
   "cell_type": "code",
   "execution_count": 584,
   "metadata": {},
   "outputs": [
    {
     "data": {
      "text/html": [
       "<div>\n",
       "<style scoped>\n",
       "    .dataframe tbody tr th:only-of-type {\n",
       "        vertical-align: middle;\n",
       "    }\n",
       "\n",
       "    .dataframe tbody tr th {\n",
       "        vertical-align: top;\n",
       "    }\n",
       "\n",
       "    .dataframe thead th {\n",
       "        text-align: right;\n",
       "    }\n",
       "</style>\n",
       "<table border=\"1\" class=\"dataframe\">\n",
       "  <thead>\n",
       "    <tr style=\"text-align: right;\">\n",
       "      <th></th>\n",
       "      <th>Survived</th>\n",
       "      <th>Pclass</th>\n",
       "      <th>Sex</th>\n",
       "      <th>Age</th>\n",
       "      <th>SibSp</th>\n",
       "      <th>Parch</th>\n",
       "      <th>Fare</th>\n",
       "      <th>Embarked</th>\n",
       "    </tr>\n",
       "  </thead>\n",
       "  <tbody>\n",
       "    <tr>\n",
       "      <th>0</th>\n",
       "      <td>0</td>\n",
       "      <td>3</td>\n",
       "      <td>male</td>\n",
       "      <td>22.0</td>\n",
       "      <td>1</td>\n",
       "      <td>0</td>\n",
       "      <td>7.2500</td>\n",
       "      <td>S</td>\n",
       "    </tr>\n",
       "    <tr>\n",
       "      <th>1</th>\n",
       "      <td>1</td>\n",
       "      <td>1</td>\n",
       "      <td>female</td>\n",
       "      <td>38.0</td>\n",
       "      <td>1</td>\n",
       "      <td>0</td>\n",
       "      <td>71.2833</td>\n",
       "      <td>C</td>\n",
       "    </tr>\n",
       "    <tr>\n",
       "      <th>2</th>\n",
       "      <td>1</td>\n",
       "      <td>3</td>\n",
       "      <td>female</td>\n",
       "      <td>26.0</td>\n",
       "      <td>0</td>\n",
       "      <td>0</td>\n",
       "      <td>7.9250</td>\n",
       "      <td>S</td>\n",
       "    </tr>\n",
       "    <tr>\n",
       "      <th>3</th>\n",
       "      <td>1</td>\n",
       "      <td>1</td>\n",
       "      <td>female</td>\n",
       "      <td>35.0</td>\n",
       "      <td>1</td>\n",
       "      <td>0</td>\n",
       "      <td>53.1000</td>\n",
       "      <td>S</td>\n",
       "    </tr>\n",
       "    <tr>\n",
       "      <th>4</th>\n",
       "      <td>0</td>\n",
       "      <td>3</td>\n",
       "      <td>male</td>\n",
       "      <td>35.0</td>\n",
       "      <td>0</td>\n",
       "      <td>0</td>\n",
       "      <td>8.0500</td>\n",
       "      <td>S</td>\n",
       "    </tr>\n",
       "    <tr>\n",
       "      <th>...</th>\n",
       "      <td>...</td>\n",
       "      <td>...</td>\n",
       "      <td>...</td>\n",
       "      <td>...</td>\n",
       "      <td>...</td>\n",
       "      <td>...</td>\n",
       "      <td>...</td>\n",
       "      <td>...</td>\n",
       "    </tr>\n",
       "    <tr>\n",
       "      <th>886</th>\n",
       "      <td>0</td>\n",
       "      <td>2</td>\n",
       "      <td>male</td>\n",
       "      <td>27.0</td>\n",
       "      <td>0</td>\n",
       "      <td>0</td>\n",
       "      <td>13.0000</td>\n",
       "      <td>S</td>\n",
       "    </tr>\n",
       "    <tr>\n",
       "      <th>887</th>\n",
       "      <td>1</td>\n",
       "      <td>1</td>\n",
       "      <td>female</td>\n",
       "      <td>19.0</td>\n",
       "      <td>0</td>\n",
       "      <td>0</td>\n",
       "      <td>30.0000</td>\n",
       "      <td>S</td>\n",
       "    </tr>\n",
       "    <tr>\n",
       "      <th>888</th>\n",
       "      <td>0</td>\n",
       "      <td>3</td>\n",
       "      <td>female</td>\n",
       "      <td>NaN</td>\n",
       "      <td>1</td>\n",
       "      <td>2</td>\n",
       "      <td>23.4500</td>\n",
       "      <td>S</td>\n",
       "    </tr>\n",
       "    <tr>\n",
       "      <th>889</th>\n",
       "      <td>1</td>\n",
       "      <td>1</td>\n",
       "      <td>male</td>\n",
       "      <td>26.0</td>\n",
       "      <td>0</td>\n",
       "      <td>0</td>\n",
       "      <td>30.0000</td>\n",
       "      <td>C</td>\n",
       "    </tr>\n",
       "    <tr>\n",
       "      <th>890</th>\n",
       "      <td>0</td>\n",
       "      <td>3</td>\n",
       "      <td>male</td>\n",
       "      <td>32.0</td>\n",
       "      <td>0</td>\n",
       "      <td>0</td>\n",
       "      <td>7.7500</td>\n",
       "      <td>Q</td>\n",
       "    </tr>\n",
       "  </tbody>\n",
       "</table>\n",
       "<p>891 rows × 8 columns</p>\n",
       "</div>"
      ],
      "text/plain": [
       "     Survived  Pclass     Sex   Age  SibSp  Parch     Fare Embarked\n",
       "0           0       3    male  22.0      1      0   7.2500        S\n",
       "1           1       1  female  38.0      1      0  71.2833        C\n",
       "2           1       3  female  26.0      0      0   7.9250        S\n",
       "3           1       1  female  35.0      1      0  53.1000        S\n",
       "4           0       3    male  35.0      0      0   8.0500        S\n",
       "..        ...     ...     ...   ...    ...    ...      ...      ...\n",
       "886         0       2    male  27.0      0      0  13.0000        S\n",
       "887         1       1  female  19.0      0      0  30.0000        S\n",
       "888         0       3  female   NaN      1      2  23.4500        S\n",
       "889         1       1    male  26.0      0      0  30.0000        C\n",
       "890         0       3    male  32.0      0      0   7.7500        Q\n",
       "\n",
       "[891 rows x 8 columns]"
      ]
     },
     "execution_count": 584,
     "metadata": {},
     "output_type": "execute_result"
    }
   ],
   "source": [
    "mean_age = train_df['Age'].mean()\n",
    "train_df['Age'].fillna(int(mean_age))\n",
    "train_df"
   ]
  },
  {
   "cell_type": "markdown",
   "metadata": {},
   "source": [
    "- Separate Survived for y"
   ]
  },
  {
   "cell_type": "markdown",
   "metadata": {},
   "source": [
    "- Encode text-based category columns to int"
   ]
  },
  {
   "cell_type": "code",
   "execution_count": 585,
   "metadata": {},
   "outputs": [
    {
     "data": {
      "text/plain": [
       "Sex\n",
       "male      577\n",
       "female    314\n",
       "Name: count, dtype: int64"
      ]
     },
     "execution_count": 585,
     "metadata": {},
     "output_type": "execute_result"
    }
   ],
   "source": [
    "train_df['Sex'].value_counts()"
   ]
  },
  {
   "cell_type": "code",
   "execution_count": 586,
   "metadata": {},
   "outputs": [],
   "source": [
    "mapping_sex = {\n",
    "    'male' : 1,\n",
    "    'female' : 0\n",
    "}\n",
    "\n",
    "train_df['Sex'] = train_df['Sex'].map(mapping_sex)\n",
    "test_df['Sex'] = test_df['Sex'].map(mapping_sex)"
   ]
  },
  {
   "cell_type": "code",
   "execution_count": 587,
   "metadata": {},
   "outputs": [
    {
     "data": {
      "text/plain": [
       "Embarked\n",
       "S    644\n",
       "C    168\n",
       "Q     77\n",
       "Name: count, dtype: int64"
      ]
     },
     "execution_count": 587,
     "metadata": {},
     "output_type": "execute_result"
    }
   ],
   "source": [
    "train_df['Embarked'].value_counts()"
   ]
  },
  {
   "cell_type": "code",
   "execution_count": 588,
   "metadata": {},
   "outputs": [],
   "source": [
    "mapping_Embarked = {\n",
    "    'S' : 0,\n",
    "    'C' : 1,\n",
    "    'Q' : 2,\n",
    "}\n",
    "\n",
    "train_df['Embarked'] = train_df['Embarked'].map(mapping_Embarked)\n",
    "test_df['Embarked'] = test_df['Embarked'].map(mapping_Embarked)"
   ]
  },
  {
   "cell_type": "code",
   "execution_count": 589,
   "metadata": {},
   "outputs": [
    {
     "name": "stdout",
     "output_type": "stream",
     "text": [
      "<class 'pandas.core.frame.DataFrame'>\n",
      "Index: 712 entries, 0 to 890\n",
      "Data columns (total 7 columns):\n",
      " #   Column    Non-Null Count  Dtype  \n",
      "---  ------    --------------  -----  \n",
      " 0   Pclass    712 non-null    int64  \n",
      " 1   Sex       712 non-null    int64  \n",
      " 2   Age       712 non-null    float64\n",
      " 3   SibSp     712 non-null    int64  \n",
      " 4   Parch     712 non-null    int64  \n",
      " 5   Fare      712 non-null    float64\n",
      " 6   Embarked  712 non-null    float64\n",
      "dtypes: float64(3), int64(4)\n",
      "memory usage: 44.5 KB\n"
     ]
    }
   ],
   "source": [
    "train_df.dropna(inplace=True)\n",
    "y_train = train_df['Survived']\n",
    "train_df.drop(columns=['Survived'], inplace=True)\n",
    "train_df.info()"
   ]
  },
  {
   "cell_type": "markdown",
   "metadata": {},
   "source": [
    "Train-test split with random = 0"
   ]
  },
  {
   "cell_type": "code",
   "execution_count": 590,
   "metadata": {},
   "outputs": [],
   "source": [
    "X_train, X_test, y_train, y_test = train_test_split(train_df, y_train, test_size=0.2, random_state=0)"
   ]
  },
  {
   "cell_type": "markdown",
   "metadata": {},
   "source": [
    "ex4: choose your own models, train, and test with corresponding sets"
   ]
  },
  {
   "cell_type": "markdown",
   "metadata": {},
   "source": [
    "Logistic Regression"
   ]
  },
  {
   "cell_type": "code",
   "execution_count": 591,
   "metadata": {},
   "outputs": [],
   "source": [
    "from sklearn import linear_model"
   ]
  },
  {
   "cell_type": "code",
   "execution_count": 592,
   "metadata": {},
   "outputs": [
    {
     "data": {
      "text/html": [
       "<style>#sk-container-id-12 {color: black;}#sk-container-id-12 pre{padding: 0;}#sk-container-id-12 div.sk-toggleable {background-color: white;}#sk-container-id-12 label.sk-toggleable__label {cursor: pointer;display: block;width: 100%;margin-bottom: 0;padding: 0.3em;box-sizing: border-box;text-align: center;}#sk-container-id-12 label.sk-toggleable__label-arrow:before {content: \"▸\";float: left;margin-right: 0.25em;color: #696969;}#sk-container-id-12 label.sk-toggleable__label-arrow:hover:before {color: black;}#sk-container-id-12 div.sk-estimator:hover label.sk-toggleable__label-arrow:before {color: black;}#sk-container-id-12 div.sk-toggleable__content {max-height: 0;max-width: 0;overflow: hidden;text-align: left;background-color: #f0f8ff;}#sk-container-id-12 div.sk-toggleable__content pre {margin: 0.2em;color: black;border-radius: 0.25em;background-color: #f0f8ff;}#sk-container-id-12 input.sk-toggleable__control:checked~div.sk-toggleable__content {max-height: 200px;max-width: 100%;overflow: auto;}#sk-container-id-12 input.sk-toggleable__control:checked~label.sk-toggleable__label-arrow:before {content: \"▾\";}#sk-container-id-12 div.sk-estimator input.sk-toggleable__control:checked~label.sk-toggleable__label {background-color: #d4ebff;}#sk-container-id-12 div.sk-label input.sk-toggleable__control:checked~label.sk-toggleable__label {background-color: #d4ebff;}#sk-container-id-12 input.sk-hidden--visually {border: 0;clip: rect(1px 1px 1px 1px);clip: rect(1px, 1px, 1px, 1px);height: 1px;margin: -1px;overflow: hidden;padding: 0;position: absolute;width: 1px;}#sk-container-id-12 div.sk-estimator {font-family: monospace;background-color: #f0f8ff;border: 1px dotted black;border-radius: 0.25em;box-sizing: border-box;margin-bottom: 0.5em;}#sk-container-id-12 div.sk-estimator:hover {background-color: #d4ebff;}#sk-container-id-12 div.sk-parallel-item::after {content: \"\";width: 100%;border-bottom: 1px solid gray;flex-grow: 1;}#sk-container-id-12 div.sk-label:hover label.sk-toggleable__label {background-color: #d4ebff;}#sk-container-id-12 div.sk-serial::before {content: \"\";position: absolute;border-left: 1px solid gray;box-sizing: border-box;top: 0;bottom: 0;left: 50%;z-index: 0;}#sk-container-id-12 div.sk-serial {display: flex;flex-direction: column;align-items: center;background-color: white;padding-right: 0.2em;padding-left: 0.2em;position: relative;}#sk-container-id-12 div.sk-item {position: relative;z-index: 1;}#sk-container-id-12 div.sk-parallel {display: flex;align-items: stretch;justify-content: center;background-color: white;position: relative;}#sk-container-id-12 div.sk-item::before, #sk-container-id-12 div.sk-parallel-item::before {content: \"\";position: absolute;border-left: 1px solid gray;box-sizing: border-box;top: 0;bottom: 0;left: 50%;z-index: -1;}#sk-container-id-12 div.sk-parallel-item {display: flex;flex-direction: column;z-index: 1;position: relative;background-color: white;}#sk-container-id-12 div.sk-parallel-item:first-child::after {align-self: flex-end;width: 50%;}#sk-container-id-12 div.sk-parallel-item:last-child::after {align-self: flex-start;width: 50%;}#sk-container-id-12 div.sk-parallel-item:only-child::after {width: 0;}#sk-container-id-12 div.sk-dashed-wrapped {border: 1px dashed gray;margin: 0 0.4em 0.5em 0.4em;box-sizing: border-box;padding-bottom: 0.4em;background-color: white;}#sk-container-id-12 div.sk-label label {font-family: monospace;font-weight: bold;display: inline-block;line-height: 1.2em;}#sk-container-id-12 div.sk-label-container {text-align: center;}#sk-container-id-12 div.sk-container {/* jupyter's `normalize.less` sets `[hidden] { display: none; }` but bootstrap.min.css set `[hidden] { display: none !important; }` so we also need the `!important` here to be able to override the default hidden behavior on the sphinx rendered scikit-learn.org. See: https://github.com/scikit-learn/scikit-learn/issues/21755 */display: inline-block !important;position: relative;}#sk-container-id-12 div.sk-text-repr-fallback {display: none;}</style><div id=\"sk-container-id-12\" class=\"sk-top-container\"><div class=\"sk-text-repr-fallback\"><pre>LogisticRegression()</pre><b>In a Jupyter environment, please rerun this cell to show the HTML representation or trust the notebook. <br />On GitHub, the HTML representation is unable to render, please try loading this page with nbviewer.org.</b></div><div class=\"sk-container\" hidden><div class=\"sk-item\"><div class=\"sk-estimator sk-toggleable\"><input class=\"sk-toggleable__control sk-hidden--visually\" id=\"sk-estimator-id-12\" type=\"checkbox\" checked><label for=\"sk-estimator-id-12\" class=\"sk-toggleable__label sk-toggleable__label-arrow\">LogisticRegression</label><div class=\"sk-toggleable__content\"><pre>LogisticRegression()</pre></div></div></div></div></div>"
      ],
      "text/plain": [
       "LogisticRegression()"
      ]
     },
     "execution_count": 592,
     "metadata": {},
     "output_type": "execute_result"
    }
   ],
   "source": [
    "X_train_arr = np.array(X_train)\n",
    "y_train_arr = np.array(y_train)\n",
    "\n",
    "logr = linear_model.LogisticRegression()\n",
    "logr.fit(X_train_arr, y_train_arr)"
   ]
  },
  {
   "cell_type": "code",
   "execution_count": 593,
   "metadata": {},
   "outputs": [
    {
     "data": {
      "text/plain": [
       "array([0, 0, 1, 0, 0, 0, 1, 0, 0, 1, 1, 1, 1, 0, 0, 1, 0, 1, 0, 0, 0, 1,\n",
       "       1, 0, 0, 0, 0, 0, 0, 0, 0, 0, 0, 1, 1, 1, 1, 0, 0, 0, 0, 0, 0, 0,\n",
       "       0, 0, 1, 0, 0, 1, 1, 1, 1, 0, 1, 1, 0, 0, 1, 0, 1, 0, 0, 0, 0, 0,\n",
       "       1, 0, 1, 1, 0, 1, 1, 1, 0, 0, 0, 0, 0, 0, 0, 1, 0, 1, 1, 0, 0, 0,\n",
       "       1, 0, 0, 0, 1, 1, 1, 0, 1, 1, 0, 0, 0, 1, 0, 0, 0, 0, 1, 0, 0, 0,\n",
       "       0, 1, 1, 0, 0, 0, 0, 0, 0, 0, 0, 0, 0, 1, 0, 0, 0, 0, 1, 1, 0, 1,\n",
       "       1, 1, 1, 1, 1, 0, 0, 0, 0, 0, 1], dtype=int64)"
      ]
     },
     "execution_count": 593,
     "metadata": {},
     "output_type": "execute_result"
    }
   ],
   "source": [
    "#predict\n",
    "X_test_arr = np.array(X_test)\n",
    "y_predict = logr.predict(X_test_arr)\n",
    "y_predict"
   ]
  },
  {
   "cell_type": "code",
   "execution_count": 594,
   "metadata": {},
   "outputs": [
    {
     "name": "stdout",
     "output_type": "stream",
     "text": [
      "              precision    recall  f1-score   support\n",
      "\n",
      "           0       0.80      0.89      0.84        82\n",
      "           1       0.83      0.70      0.76        61\n",
      "\n",
      "    accuracy                           0.81       143\n",
      "   macro avg       0.81      0.80      0.80       143\n",
      "weighted avg       0.81      0.81      0.81       143\n",
      "\n"
     ]
    }
   ],
   "source": [
    "from sklearn.metrics import classification_report\n",
    "\n",
    "report = classification_report(y_test, y_predict)\n",
    "print(report)"
   ]
  },
  {
   "cell_type": "markdown",
   "metadata": {},
   "source": [
    "Decision Tree"
   ]
  },
  {
   "cell_type": "code",
   "execution_count": 595,
   "metadata": {},
   "outputs": [
    {
     "data": {
      "text/html": [
       "<style>#sk-container-id-13 {color: black;}#sk-container-id-13 pre{padding: 0;}#sk-container-id-13 div.sk-toggleable {background-color: white;}#sk-container-id-13 label.sk-toggleable__label {cursor: pointer;display: block;width: 100%;margin-bottom: 0;padding: 0.3em;box-sizing: border-box;text-align: center;}#sk-container-id-13 label.sk-toggleable__label-arrow:before {content: \"▸\";float: left;margin-right: 0.25em;color: #696969;}#sk-container-id-13 label.sk-toggleable__label-arrow:hover:before {color: black;}#sk-container-id-13 div.sk-estimator:hover label.sk-toggleable__label-arrow:before {color: black;}#sk-container-id-13 div.sk-toggleable__content {max-height: 0;max-width: 0;overflow: hidden;text-align: left;background-color: #f0f8ff;}#sk-container-id-13 div.sk-toggleable__content pre {margin: 0.2em;color: black;border-radius: 0.25em;background-color: #f0f8ff;}#sk-container-id-13 input.sk-toggleable__control:checked~div.sk-toggleable__content {max-height: 200px;max-width: 100%;overflow: auto;}#sk-container-id-13 input.sk-toggleable__control:checked~label.sk-toggleable__label-arrow:before {content: \"▾\";}#sk-container-id-13 div.sk-estimator input.sk-toggleable__control:checked~label.sk-toggleable__label {background-color: #d4ebff;}#sk-container-id-13 div.sk-label input.sk-toggleable__control:checked~label.sk-toggleable__label {background-color: #d4ebff;}#sk-container-id-13 input.sk-hidden--visually {border: 0;clip: rect(1px 1px 1px 1px);clip: rect(1px, 1px, 1px, 1px);height: 1px;margin: -1px;overflow: hidden;padding: 0;position: absolute;width: 1px;}#sk-container-id-13 div.sk-estimator {font-family: monospace;background-color: #f0f8ff;border: 1px dotted black;border-radius: 0.25em;box-sizing: border-box;margin-bottom: 0.5em;}#sk-container-id-13 div.sk-estimator:hover {background-color: #d4ebff;}#sk-container-id-13 div.sk-parallel-item::after {content: \"\";width: 100%;border-bottom: 1px solid gray;flex-grow: 1;}#sk-container-id-13 div.sk-label:hover label.sk-toggleable__label {background-color: #d4ebff;}#sk-container-id-13 div.sk-serial::before {content: \"\";position: absolute;border-left: 1px solid gray;box-sizing: border-box;top: 0;bottom: 0;left: 50%;z-index: 0;}#sk-container-id-13 div.sk-serial {display: flex;flex-direction: column;align-items: center;background-color: white;padding-right: 0.2em;padding-left: 0.2em;position: relative;}#sk-container-id-13 div.sk-item {position: relative;z-index: 1;}#sk-container-id-13 div.sk-parallel {display: flex;align-items: stretch;justify-content: center;background-color: white;position: relative;}#sk-container-id-13 div.sk-item::before, #sk-container-id-13 div.sk-parallel-item::before {content: \"\";position: absolute;border-left: 1px solid gray;box-sizing: border-box;top: 0;bottom: 0;left: 50%;z-index: -1;}#sk-container-id-13 div.sk-parallel-item {display: flex;flex-direction: column;z-index: 1;position: relative;background-color: white;}#sk-container-id-13 div.sk-parallel-item:first-child::after {align-self: flex-end;width: 50%;}#sk-container-id-13 div.sk-parallel-item:last-child::after {align-self: flex-start;width: 50%;}#sk-container-id-13 div.sk-parallel-item:only-child::after {width: 0;}#sk-container-id-13 div.sk-dashed-wrapped {border: 1px dashed gray;margin: 0 0.4em 0.5em 0.4em;box-sizing: border-box;padding-bottom: 0.4em;background-color: white;}#sk-container-id-13 div.sk-label label {font-family: monospace;font-weight: bold;display: inline-block;line-height: 1.2em;}#sk-container-id-13 div.sk-label-container {text-align: center;}#sk-container-id-13 div.sk-container {/* jupyter's `normalize.less` sets `[hidden] { display: none; }` but bootstrap.min.css set `[hidden] { display: none !important; }` so we also need the `!important` here to be able to override the default hidden behavior on the sphinx rendered scikit-learn.org. See: https://github.com/scikit-learn/scikit-learn/issues/21755 */display: inline-block !important;position: relative;}#sk-container-id-13 div.sk-text-repr-fallback {display: none;}</style><div id=\"sk-container-id-13\" class=\"sk-top-container\"><div class=\"sk-text-repr-fallback\"><pre>DecisionTreeClassifier()</pre><b>In a Jupyter environment, please rerun this cell to show the HTML representation or trust the notebook. <br />On GitHub, the HTML representation is unable to render, please try loading this page with nbviewer.org.</b></div><div class=\"sk-container\" hidden><div class=\"sk-item\"><div class=\"sk-estimator sk-toggleable\"><input class=\"sk-toggleable__control sk-hidden--visually\" id=\"sk-estimator-id-13\" type=\"checkbox\" checked><label for=\"sk-estimator-id-13\" class=\"sk-toggleable__label sk-toggleable__label-arrow\">DecisionTreeClassifier</label><div class=\"sk-toggleable__content\"><pre>DecisionTreeClassifier()</pre></div></div></div></div></div>"
      ],
      "text/plain": [
       "DecisionTreeClassifier()"
      ]
     },
     "execution_count": 595,
     "metadata": {},
     "output_type": "execute_result"
    }
   ],
   "source": [
    "from sklearn import tree\n",
    "from sklearn.tree import DecisionTreeClassifier\n",
    "\n",
    "np_X_train = np.array(X_train)\n",
    "np_y_train = np.array(y_train)\n",
    "# np_y_train = np_y_train.ravel()\n",
    "\n",
    "dtree = DecisionTreeClassifier()\n",
    "\n",
    "dtree.fit(np_X_train, np_y_train)"
   ]
  },
  {
   "cell_type": "code",
   "execution_count": 596,
   "metadata": {},
   "outputs": [
    {
     "data": {
      "text/plain": [
       "array([1, 0, 1, 0, 0, 0, 1, 0, 0, 1, 1, 0, 1, 0, 0, 1, 0, 1, 0, 0, 0, 1,\n",
       "       1, 0, 0, 0, 0, 0, 0, 0, 0, 0, 0, 1, 1, 1, 1, 1, 0, 0, 0, 1, 1, 0,\n",
       "       0, 0, 1, 0, 0, 1, 1, 0, 1, 0, 1, 1, 0, 1, 1, 1, 1, 0, 1, 1, 0, 1,\n",
       "       1, 0, 1, 1, 0, 1, 1, 1, 0, 0, 1, 1, 0, 0, 0, 1, 0, 1, 1, 0, 0, 0,\n",
       "       1, 0, 0, 0, 1, 1, 1, 0, 1, 1, 0, 0, 1, 1, 0, 0, 1, 0, 1, 0, 0, 0,\n",
       "       1, 0, 1, 1, 0, 0, 0, 0, 0, 1, 0, 0, 0, 1, 1, 0, 0, 1, 1, 1, 0, 1,\n",
       "       1, 1, 1, 1, 1, 0, 1, 1, 0, 0, 1], dtype=int64)"
      ]
     },
     "execution_count": 596,
     "metadata": {},
     "output_type": "execute_result"
    }
   ],
   "source": [
    "np_X_test = np.array(X_test)\n",
    "y_predict = dtree.predict(np_X_test)\n",
    "y_predict"
   ]
  },
  {
   "cell_type": "code",
   "execution_count": 598,
   "metadata": {},
   "outputs": [
    {
     "name": "stdout",
     "output_type": "stream",
     "text": [
      "              precision    recall  f1-score   support\n",
      "\n",
      "           0       0.82      0.74      0.78        82\n",
      "           1       0.70      0.79      0.74        61\n",
      "\n",
      "    accuracy                           0.76       143\n",
      "   macro avg       0.76      0.77      0.76       143\n",
      "weighted avg       0.77      0.76      0.76       143\n",
      "\n"
     ]
    }
   ],
   "source": [
    "report_dtree = classification_report(y_test, y_predict)\n",
    "print(report_dtree)"
   ]
  },
  {
   "cell_type": "code",
   "execution_count": 601,
   "metadata": {},
   "outputs": [
    {
     "name": "stdout",
     "output_type": "stream",
     "text": [
      "[Text(0.33722915474828374, 0.975, 'Sex <= 0.5\\ngini = 0.48\\nsamples = 569\\nvalue = [342, 227]'), Text(0.16876430205949658, 0.925, 'Pclass <= 2.5\\ngini = 0.38\\nsamples = 204\\nvalue = [52, 152]'), Text(0.08466819221967964, 0.875, 'Fare <= 28.856\\ngini = 0.092\\nsamples = 124\\nvalue = [6, 118]'), Text(0.059496567505720827, 0.825, 'Fare <= 28.231\\ngini = 0.174\\nsamples = 52\\nvalue = [5, 47]'), Text(0.05034324942791762, 0.775, 'SibSp <= 0.5\\ngini = 0.145\\nsamples = 51\\nvalue = [4, 47]'), Text(0.018306636155606407, 0.725, 'Age <= 37.0\\ngini = 0.057\\nsamples = 34\\nvalue = [1, 33]'), Text(0.009153318077803204, 0.675, 'gini = 0.0\\nsamples = 24\\nvalue = [0, 24]'), Text(0.02745995423340961, 0.675, 'Age <= 39.0\\ngini = 0.18\\nsamples = 10\\nvalue = [1, 9]'), Text(0.018306636155606407, 0.625, 'gini = 0.0\\nsamples = 1\\nvalue = [1, 0]'), Text(0.036613272311212815, 0.625, 'gini = 0.0\\nsamples = 9\\nvalue = [0, 9]'), Text(0.08237986270022883, 0.725, 'Age <= 43.0\\ngini = 0.291\\nsamples = 17\\nvalue = [3, 14]'), Text(0.06407322654462243, 0.675, 'Age <= 27.5\\ngini = 0.231\\nsamples = 15\\nvalue = [2, 13]'), Text(0.05491990846681922, 0.625, 'Age <= 25.0\\ngini = 0.375\\nsamples = 8\\nvalue = [2, 6]'), Text(0.04576659038901602, 0.575, 'gini = 0.0\\nsamples = 5\\nvalue = [0, 5]'), Text(0.06407322654462243, 0.575, 'Embarked <= 0.5\\ngini = 0.444\\nsamples = 3\\nvalue = [2, 1]'), Text(0.05491990846681922, 0.525, 'gini = 0.0\\nsamples = 2\\nvalue = [2, 0]'), Text(0.07322654462242563, 0.525, 'gini = 0.0\\nsamples = 1\\nvalue = [0, 1]'), Text(0.07322654462242563, 0.625, 'gini = 0.0\\nsamples = 7\\nvalue = [0, 7]'), Text(0.10068649885583524, 0.675, 'Fare <= 26.125\\ngini = 0.5\\nsamples = 2\\nvalue = [1, 1]'), Text(0.09153318077803203, 0.625, 'gini = 0.0\\nsamples = 1\\nvalue = [1, 0]'), Text(0.10983981693363844, 0.625, 'gini = 0.0\\nsamples = 1\\nvalue = [0, 1]'), Text(0.06864988558352403, 0.775, 'gini = 0.0\\nsamples = 1\\nvalue = [1, 0]'), Text(0.10983981693363844, 0.825, 'Parch <= 1.5\\ngini = 0.027\\nsamples = 72\\nvalue = [1, 71]'), Text(0.10068649885583524, 0.775, 'gini = 0.0\\nsamples = 58\\nvalue = [0, 58]'), Text(0.11899313501144165, 0.775, 'Age <= 24.5\\ngini = 0.133\\nsamples = 14\\nvalue = [1, 13]'), Text(0.10983981693363844, 0.725, 'gini = 0.0\\nsamples = 9\\nvalue = [0, 9]'), Text(0.12814645308924486, 0.725, 'Age <= 28.0\\ngini = 0.32\\nsamples = 5\\nvalue = [1, 4]'), Text(0.11899313501144165, 0.675, 'gini = 0.0\\nsamples = 1\\nvalue = [1, 0]'), Text(0.13729977116704806, 0.675, 'gini = 0.0\\nsamples = 4\\nvalue = [0, 4]'), Text(0.2528604118993135, 0.875, 'Fare <= 20.663\\ngini = 0.489\\nsamples = 80\\nvalue = [46, 34]'), Text(0.2036613272311213, 0.825, 'Age <= 16.5\\ngini = 0.496\\nsamples = 57\\nvalue = [26, 31]'), Text(0.17391304347826086, 0.775, 'Embarked <= 0.5\\ngini = 0.26\\nsamples = 13\\nvalue = [2, 11]'), Text(0.16475972540045766, 0.725, 'Fare <= 10.798\\ngini = 0.48\\nsamples = 5\\nvalue = [2, 3]'), Text(0.15560640732265446, 0.675, 'gini = 0.0\\nsamples = 2\\nvalue = [2, 0]'), Text(0.17391304347826086, 0.675, 'gini = 0.0\\nsamples = 3\\nvalue = [0, 3]'), Text(0.18306636155606407, 0.725, 'gini = 0.0\\nsamples = 8\\nvalue = [0, 8]'), Text(0.2334096109839817, 0.775, 'Parch <= 1.5\\ngini = 0.496\\nsamples = 44\\nvalue = [24, 20]'), Text(0.21052631578947367, 0.725, 'Fare <= 7.7\\ngini = 0.484\\nsamples = 39\\nvalue = [23, 16]'), Text(0.19221967963386727, 0.675, 'Embarked <= 1.0\\ngini = 0.375\\nsamples = 4\\nvalue = [1, 3]'), Text(0.18306636155606407, 0.625, 'gini = 0.0\\nsamples = 3\\nvalue = [0, 3]'), Text(0.20137299771167047, 0.625, 'gini = 0.0\\nsamples = 1\\nvalue = [1, 0]'), Text(0.2288329519450801, 0.675, 'Fare <= 19.125\\ngini = 0.467\\nsamples = 35\\nvalue = [22, 13]'), Text(0.21967963386727687, 0.625, 'Age <= 54.0\\ngini = 0.457\\nsamples = 34\\nvalue = [22, 12]'), Text(0.21052631578947367, 0.575, 'Fare <= 17.6\\ngini = 0.444\\nsamples = 33\\nvalue = [22, 11]'), Text(0.20137299771167047, 0.525, 'Age <= 36.5\\ngini = 0.464\\nsamples = 30\\nvalue = [19, 11]'), Text(0.19221967963386727, 0.475, 'Age <= 33.5\\ngini = 0.483\\nsamples = 27\\nvalue = [16, 11]'), Text(0.18306636155606407, 0.425, 'Age <= 19.5\\ngini = 0.473\\nsamples = 26\\nvalue = [16, 10]'), Text(0.16475972540045766, 0.375, 'Age <= 18.5\\ngini = 0.48\\nsamples = 5\\nvalue = [2, 3]'), Text(0.15560640732265446, 0.325, 'Parch <= 0.5\\ngini = 0.444\\nsamples = 3\\nvalue = [2, 1]'), Text(0.14645308924485126, 0.275, 'gini = 0.0\\nsamples = 2\\nvalue = [2, 0]'), Text(0.16475972540045766, 0.275, 'gini = 0.0\\nsamples = 1\\nvalue = [0, 1]'), Text(0.17391304347826086, 0.325, 'gini = 0.0\\nsamples = 2\\nvalue = [0, 2]'), Text(0.20137299771167047, 0.375, 'Age <= 21.5\\ngini = 0.444\\nsamples = 21\\nvalue = [14, 7]'), Text(0.19221967963386727, 0.325, 'gini = 0.0\\nsamples = 4\\nvalue = [4, 0]'), Text(0.21052631578947367, 0.325, 'Age <= 22.5\\ngini = 0.484\\nsamples = 17\\nvalue = [10, 7]'), Text(0.19221967963386727, 0.275, 'Fare <= 8.806\\ngini = 0.375\\nsamples = 4\\nvalue = [1, 3]'), Text(0.18306636155606407, 0.225, 'gini = 0.0\\nsamples = 3\\nvalue = [0, 3]'), Text(0.20137299771167047, 0.225, 'gini = 0.0\\nsamples = 1\\nvalue = [1, 0]'), Text(0.2288329519450801, 0.275, 'Fare <= 7.91\\ngini = 0.426\\nsamples = 13\\nvalue = [9, 4]'), Text(0.21967963386727687, 0.225, 'gini = 0.0\\nsamples = 4\\nvalue = [4, 0]'), Text(0.2379862700228833, 0.225, 'Age <= 30.5\\ngini = 0.494\\nsamples = 9\\nvalue = [5, 4]'), Text(0.2288329519450801, 0.175, 'Fare <= 11.469\\ngini = 0.469\\nsamples = 8\\nvalue = [5, 3]'), Text(0.21052631578947367, 0.125, 'Fare <= 8.294\\ngini = 0.32\\nsamples = 5\\nvalue = [4, 1]'), Text(0.20137299771167047, 0.075, 'Age <= 24.5\\ngini = 0.5\\nsamples = 2\\nvalue = [1, 1]'), Text(0.19221967963386727, 0.025, 'gini = 0.0\\nsamples = 1\\nvalue = [1, 0]'), Text(0.21052631578947367, 0.025, 'gini = 0.0\\nsamples = 1\\nvalue = [0, 1]'), Text(0.21967963386727687, 0.075, 'gini = 0.0\\nsamples = 3\\nvalue = [3, 0]'), Text(0.2471395881006865, 0.125, 'Fare <= 15.975\\ngini = 0.444\\nsamples = 3\\nvalue = [1, 2]'), Text(0.2379862700228833, 0.075, 'gini = 0.0\\nsamples = 2\\nvalue = [0, 2]'), Text(0.2562929061784897, 0.075, 'gini = 0.0\\nsamples = 1\\nvalue = [1, 0]'), Text(0.2471395881006865, 0.175, 'gini = 0.0\\nsamples = 1\\nvalue = [0, 1]'), Text(0.20137299771167047, 0.425, 'gini = 0.0\\nsamples = 1\\nvalue = [0, 1]'), Text(0.21052631578947367, 0.475, 'gini = 0.0\\nsamples = 3\\nvalue = [3, 0]'), Text(0.21967963386727687, 0.525, 'gini = 0.0\\nsamples = 3\\nvalue = [3, 0]'), Text(0.2288329519450801, 0.575, 'gini = 0.0\\nsamples = 1\\nvalue = [0, 1]'), Text(0.2379862700228833, 0.625, 'gini = 0.0\\nsamples = 1\\nvalue = [0, 1]'), Text(0.2562929061784897, 0.725, 'Fare <= 19.735\\ngini = 0.32\\nsamples = 5\\nvalue = [1, 4]'), Text(0.2471395881006865, 0.675, 'gini = 0.0\\nsamples = 4\\nvalue = [0, 4]'), Text(0.2654462242562929, 0.675, 'gini = 0.0\\nsamples = 1\\nvalue = [1, 0]'), Text(0.30205949656750575, 0.825, 'Age <= 5.5\\ngini = 0.227\\nsamples = 23\\nvalue = [20, 3]'), Text(0.2837528604118993, 0.775, 'Age <= 3.5\\ngini = 0.48\\nsamples = 5\\nvalue = [3, 2]'), Text(0.2745995423340961, 0.725, 'gini = 0.0\\nsamples = 3\\nvalue = [3, 0]'), Text(0.2929061784897025, 0.725, 'gini = 0.0\\nsamples = 2\\nvalue = [0, 2]'), Text(0.32036613272311215, 0.775, 'Parch <= 4.5\\ngini = 0.105\\nsamples = 18\\nvalue = [17, 1]'), Text(0.3112128146453089, 0.725, 'gini = 0.0\\nsamples = 13\\nvalue = [13, 0]'), Text(0.3295194508009153, 0.725, 'Age <= 38.5\\ngini = 0.32\\nsamples = 5\\nvalue = [4, 1]'), Text(0.32036613272311215, 0.675, 'gini = 0.0\\nsamples = 1\\nvalue = [0, 1]'), Text(0.33867276887871856, 0.675, 'gini = 0.0\\nsamples = 4\\nvalue = [4, 0]'), Text(0.5056940074370709, 0.925, 'Age <= 6.5\\ngini = 0.327\\nsamples = 365\\nvalue = [290, 75]'), Text(0.33867276887871856, 0.875, 'SibSp <= 2.5\\ngini = 0.465\\nsamples = 19\\nvalue = [7, 12]'), Text(0.3295194508009153, 0.825, 'gini = 0.0\\nsamples = 11\\nvalue = [0, 11]'), Text(0.34782608695652173, 0.825, 'Parch <= 1.5\\ngini = 0.219\\nsamples = 8\\nvalue = [7, 1]'), Text(0.33867276887871856, 0.775, 'gini = 0.0\\nsamples = 5\\nvalue = [5, 0]'), Text(0.35697940503432496, 0.775, 'Fare <= 29.644\\ngini = 0.444\\nsamples = 3\\nvalue = [2, 1]'), Text(0.34782608695652173, 0.725, 'gini = 0.0\\nsamples = 1\\nvalue = [1, 0]'), Text(0.36613272311212813, 0.725, 'SibSp <= 4.5\\ngini = 0.5\\nsamples = 2\\nvalue = [1, 1]'), Text(0.35697940503432496, 0.675, 'gini = 0.0\\nsamples = 1\\nvalue = [0, 1]'), Text(0.37528604118993136, 0.675, 'gini = 0.0\\nsamples = 1\\nvalue = [1, 0]'), Text(0.6727152459954233, 0.875, 'Pclass <= 1.5\\ngini = 0.298\\nsamples = 346\\nvalue = [283, 63]'), Text(0.4759725400457666, 0.825, 'Age <= 43.0\\ngini = 0.477\\nsamples = 79\\nvalue = [48, 31]'), Text(0.42105263157894735, 0.775, 'Fare <= 27.135\\ngini = 0.5\\nsamples = 44\\nvalue = [22, 22]'), Text(0.40274599542334094, 0.725, 'Fare <= 15.644\\ngini = 0.245\\nsamples = 7\\nvalue = [1, 6]'), Text(0.39359267734553777, 0.675, 'gini = 0.0\\nsamples = 1\\nvalue = [1, 0]'), Text(0.41189931350114417, 0.675, 'gini = 0.0\\nsamples = 6\\nvalue = [0, 6]'), Text(0.43935926773455375, 0.725, 'Fare <= 387.665\\ngini = 0.491\\nsamples = 37\\nvalue = [21, 16]'), Text(0.4302059496567506, 0.675, 'Fare <= 127.817\\ngini = 0.48\\nsamples = 35\\nvalue = [21, 14]'), Text(0.42105263157894735, 0.625, 'Fare <= 86.085\\ngini = 0.498\\nsamples = 30\\nvalue = [16, 14]'), Text(0.40274599542334094, 0.575, 'Fare <= 77.008\\ngini = 0.469\\nsamples = 24\\nvalue = [15, 9]'), Text(0.39359267734553777, 0.525, 'Fare <= 29.85\\ngini = 0.495\\nsamples = 20\\nvalue = [11, 9]'), Text(0.38443935926773454, 0.475, 'gini = 0.0\\nsamples = 3\\nvalue = [3, 0]'), Text(0.40274599542334094, 0.475, 'Embarked <= 0.5\\ngini = 0.498\\nsamples = 17\\nvalue = [8, 9]'), Text(0.38443935926773454, 0.425, 'Parch <= 0.5\\ngini = 0.463\\nsamples = 11\\nvalue = [7, 4]'), Text(0.37528604118993136, 0.375, 'Age <= 39.5\\ngini = 0.42\\nsamples = 10\\nvalue = [7, 3]'), Text(0.36613272311212813, 0.325, 'Fare <= 41.3\\ngini = 0.346\\nsamples = 9\\nvalue = [7, 2]'), Text(0.34782608695652173, 0.275, 'Age <= 28.5\\ngini = 0.5\\nsamples = 2\\nvalue = [1, 1]'), Text(0.33867276887871856, 0.225, 'gini = 0.0\\nsamples = 1\\nvalue = [0, 1]'), Text(0.35697940503432496, 0.225, 'gini = 0.0\\nsamples = 1\\nvalue = [1, 0]'), Text(0.38443935926773454, 0.275, 'Fare <= 55.05\\ngini = 0.245\\nsamples = 7\\nvalue = [6, 1]'), Text(0.37528604118993136, 0.225, 'gini = 0.0\\nsamples = 5\\nvalue = [5, 0]'), Text(0.39359267734553777, 0.225, 'Age <= 30.0\\ngini = 0.5\\nsamples = 2\\nvalue = [1, 1]'), Text(0.38443935926773454, 0.175, 'gini = 0.0\\nsamples = 1\\nvalue = [1, 0]'), Text(0.40274599542334094, 0.175, 'gini = 0.0\\nsamples = 1\\nvalue = [0, 1]'), Text(0.38443935926773454, 0.325, 'gini = 0.0\\nsamples = 1\\nvalue = [0, 1]'), Text(0.39359267734553777, 0.375, 'gini = 0.0\\nsamples = 1\\nvalue = [0, 1]'), Text(0.42105263157894735, 0.425, 'Age <= 34.0\\ngini = 0.278\\nsamples = 6\\nvalue = [1, 5]'), Text(0.41189931350114417, 0.375, 'gini = 0.0\\nsamples = 4\\nvalue = [0, 4]'), Text(0.4302059496567506, 0.375, 'Fare <= 35.562\\ngini = 0.5\\nsamples = 2\\nvalue = [1, 1]'), Text(0.42105263157894735, 0.325, 'gini = 0.0\\nsamples = 1\\nvalue = [0, 1]'), Text(0.43935926773455375, 0.325, 'gini = 0.0\\nsamples = 1\\nvalue = [1, 0]'), Text(0.41189931350114417, 0.525, 'gini = 0.0\\nsamples = 4\\nvalue = [4, 0]'), Text(0.43935926773455375, 0.575, 'Parch <= 1.0\\ngini = 0.278\\nsamples = 6\\nvalue = [1, 5]'), Text(0.4302059496567506, 0.525, 'Age <= 21.5\\ngini = 0.444\\nsamples = 3\\nvalue = [1, 2]'), Text(0.42105263157894735, 0.475, 'gini = 0.0\\nsamples = 1\\nvalue = [1, 0]'), Text(0.43935926773455375, 0.475, 'gini = 0.0\\nsamples = 2\\nvalue = [0, 2]'), Text(0.448512585812357, 0.525, 'gini = 0.0\\nsamples = 3\\nvalue = [0, 3]'), Text(0.43935926773455375, 0.625, 'gini = 0.0\\nsamples = 5\\nvalue = [5, 0]'), Text(0.448512585812357, 0.675, 'gini = 0.0\\nsamples = 2\\nvalue = [0, 2]'), Text(0.5308924485125858, 0.775, 'SibSp <= 0.5\\ngini = 0.382\\nsamples = 35\\nvalue = [26, 9]'), Text(0.5125858123569794, 0.725, 'Age <= 75.5\\ngini = 0.278\\nsamples = 24\\nvalue = [20, 4]'), Text(0.5034324942791762, 0.675, 'Fare <= 27.525\\ngini = 0.227\\nsamples = 23\\nvalue = [20, 3]'), Text(0.4851258581235698, 0.625, 'Age <= 53.5\\ngini = 0.408\\nsamples = 7\\nvalue = [5, 2]'), Text(0.4759725400457666, 0.575, 'Fare <= 26.069\\ngini = 0.5\\nsamples = 4\\nvalue = [2, 2]'), Text(0.4668192219679634, 0.525, 'gini = 0.0\\nsamples = 1\\nvalue = [1, 0]'), Text(0.4851258581235698, 0.525, 'Age <= 48.0\\ngini = 0.444\\nsamples = 3\\nvalue = [1, 2]'), Text(0.4759725400457666, 0.475, 'gini = 0.5\\nsamples = 2\\nvalue = [1, 1]'), Text(0.494279176201373, 0.475, 'gini = 0.0\\nsamples = 1\\nvalue = [0, 1]'), Text(0.494279176201373, 0.575, 'gini = 0.0\\nsamples = 3\\nvalue = [3, 0]'), Text(0.5217391304347826, 0.625, 'Age <= 55.0\\ngini = 0.117\\nsamples = 16\\nvalue = [15, 1]'), Text(0.5125858123569794, 0.575, 'gini = 0.0\\nsamples = 8\\nvalue = [8, 0]'), Text(0.5308924485125858, 0.575, 'Age <= 57.0\\ngini = 0.219\\nsamples = 8\\nvalue = [7, 1]'), Text(0.5217391304347826, 0.525, 'Fare <= 33.098\\ngini = 0.5\\nsamples = 2\\nvalue = [1, 1]'), Text(0.5125858123569794, 0.475, 'gini = 0.0\\nsamples = 1\\nvalue = [1, 0]'), Text(0.5308924485125858, 0.475, 'gini = 0.0\\nsamples = 1\\nvalue = [0, 1]'), Text(0.540045766590389, 0.525, 'gini = 0.0\\nsamples = 6\\nvalue = [6, 0]'), Text(0.5217391304347826, 0.675, 'gini = 0.0\\nsamples = 1\\nvalue = [0, 1]'), Text(0.5491990846681922, 0.725, 'Age <= 47.0\\ngini = 0.496\\nsamples = 11\\nvalue = [6, 5]'), Text(0.540045766590389, 0.675, 'gini = 0.0\\nsamples = 3\\nvalue = [3, 0]'), Text(0.5583524027459954, 0.675, 'Fare <= 56.415\\ngini = 0.469\\nsamples = 8\\nvalue = [3, 5]'), Text(0.5491990846681922, 0.625, 'gini = 0.0\\nsamples = 1\\nvalue = [1, 0]'), Text(0.5675057208237986, 0.625, 'Fare <= 97.765\\ngini = 0.408\\nsamples = 7\\nvalue = [2, 5]'), Text(0.5583524027459954, 0.575, 'gini = 0.0\\nsamples = 4\\nvalue = [0, 4]'), Text(0.5766590389016019, 0.575, 'SibSp <= 1.5\\ngini = 0.444\\nsamples = 3\\nvalue = [2, 1]'), Text(0.5675057208237986, 0.525, 'gini = 0.0\\nsamples = 2\\nvalue = [2, 0]'), Text(0.585812356979405, 0.525, 'gini = 0.0\\nsamples = 1\\nvalue = [0, 1]'), Text(0.8694579519450801, 0.825, 'Age <= 32.25\\ngini = 0.211\\nsamples = 267\\nvalue = [235, 32]'), Text(0.7938358123569794, 0.775, 'Age <= 30.75\\ngini = 0.258\\nsamples = 184\\nvalue = [156, 28]'), Text(0.7066647597254004, 0.725, 'Embarked <= 0.5\\ngini = 0.221\\nsamples = 166\\nvalue = [145, 21]'), Text(0.6330091533180778, 0.675, 'Fare <= 7.01\\ngini = 0.176\\nsamples = 144\\nvalue = [130, 14]'), Text(0.6041189931350115, 0.625, 'Age <= 22.0\\ngini = 0.5\\nsamples = 4\\nvalue = [2, 2]'), Text(0.5949656750572082, 0.575, 'gini = 0.0\\nsamples = 2\\nvalue = [2, 0]'), Text(0.6132723112128147, 0.575, 'gini = 0.0\\nsamples = 2\\nvalue = [0, 2]'), Text(0.6618993135011442, 0.625, 'Age <= 9.5\\ngini = 0.157\\nsamples = 140\\nvalue = [128, 12]'), Text(0.631578947368421, 0.575, 'Fare <= 25.956\\ngini = 0.48\\nsamples = 5\\nvalue = [3, 2]'), Text(0.6224256292906178, 0.525, 'gini = 0.0\\nsamples = 2\\nvalue = [0, 2]'), Text(0.6407322654462243, 0.525, 'gini = 0.0\\nsamples = 3\\nvalue = [3, 0]'), Text(0.6922196796338673, 0.575, 'Fare <= 9.673\\ngini = 0.137\\nsamples = 135\\nvalue = [125, 10]'), Text(0.6590389016018307, 0.525, 'Age <= 26.5\\ngini = 0.182\\nsamples = 89\\nvalue = [80, 9]'), Text(0.6292906178489702, 0.475, 'Fare <= 8.175\\ngini = 0.153\\nsamples = 72\\nvalue = [66, 6]'), Text(0.620137299771167, 0.425, 'Fare <= 7.988\\ngini = 0.188\\nsamples = 57\\nvalue = [51, 6]'), Text(0.597254004576659, 0.375, 'Fare <= 7.825\\ngini = 0.127\\nsamples = 44\\nvalue = [41, 3]'), Text(0.5881006864988558, 0.325, 'Age <= 20.75\\ngini = 0.198\\nsamples = 27\\nvalue = [24, 3]'), Text(0.5789473684210527, 0.275, 'gini = 0.0\\nsamples = 9\\nvalue = [9, 0]'), Text(0.597254004576659, 0.275, 'Fare <= 7.713\\ngini = 0.278\\nsamples = 18\\nvalue = [15, 3]'), Text(0.5789473684210527, 0.225, 'Fare <= 7.196\\ngini = 0.153\\nsamples = 12\\nvalue = [11, 1]'), Text(0.5697940503432495, 0.175, 'Fare <= 7.133\\ngini = 0.32\\nsamples = 5\\nvalue = [4, 1]'), Text(0.5606407322654462, 0.125, 'gini = 0.0\\nsamples = 4\\nvalue = [4, 0]'), Text(0.5789473684210527, 0.125, 'gini = 0.0\\nsamples = 1\\nvalue = [0, 1]'), Text(0.5881006864988558, 0.175, 'gini = 0.0\\nsamples = 7\\nvalue = [7, 0]'), Text(0.6155606407322655, 0.225, 'SibSp <= 0.5\\ngini = 0.444\\nsamples = 6\\nvalue = [4, 2]'), Text(0.6064073226544623, 0.175, 'Age <= 21.5\\ngini = 0.32\\nsamples = 5\\nvalue = [4, 1]'), Text(0.597254004576659, 0.125, 'Fare <= 7.785\\ngini = 0.5\\nsamples = 2\\nvalue = [1, 1]'), Text(0.5881006864988558, 0.075, 'gini = 0.0\\nsamples = 1\\nvalue = [1, 0]'), Text(0.6064073226544623, 0.075, 'gini = 0.0\\nsamples = 1\\nvalue = [0, 1]'), Text(0.6155606407322655, 0.125, 'gini = 0.0\\nsamples = 3\\nvalue = [3, 0]'), Text(0.6247139588100686, 0.175, 'gini = 0.0\\nsamples = 1\\nvalue = [0, 1]'), Text(0.6064073226544623, 0.325, 'gini = 0.0\\nsamples = 17\\nvalue = [17, 0]'), Text(0.6430205949656751, 0.375, 'Age <= 19.5\\ngini = 0.355\\nsamples = 13\\nvalue = [10, 3]'), Text(0.6338672768878718, 0.325, 'Age <= 17.0\\ngini = 0.48\\nsamples = 5\\nvalue = [2, 3]'), Text(0.6247139588100686, 0.275, 'gini = 0.5\\nsamples = 2\\nvalue = [1, 1]'), Text(0.6430205949656751, 0.275, 'Age <= 18.5\\ngini = 0.444\\nsamples = 3\\nvalue = [1, 2]'), Text(0.6338672768878718, 0.225, 'gini = 0.0\\nsamples = 1\\nvalue = [0, 1]'), Text(0.6521739130434783, 0.225, 'gini = 0.5\\nsamples = 2\\nvalue = [1, 1]'), Text(0.6521739130434783, 0.325, 'gini = 0.0\\nsamples = 8\\nvalue = [8, 0]'), Text(0.6384439359267735, 0.425, 'gini = 0.0\\nsamples = 15\\nvalue = [15, 0]'), Text(0.6887871853546911, 0.475, 'Age <= 27.5\\ngini = 0.291\\nsamples = 17\\nvalue = [14, 3]'), Text(0.6704805491990846, 0.425, 'Fare <= 7.846\\ngini = 0.444\\nsamples = 3\\nvalue = [1, 2]'), Text(0.6613272311212814, 0.375, 'gini = 0.0\\nsamples = 1\\nvalue = [0, 1]'), Text(0.6796338672768879, 0.375, 'Fare <= 8.279\\ngini = 0.5\\nsamples = 2\\nvalue = [1, 1]'), Text(0.6704805491990846, 0.325, 'gini = 0.0\\nsamples = 1\\nvalue = [1, 0]'), Text(0.6887871853546911, 0.325, 'gini = 0.0\\nsamples = 1\\nvalue = [0, 1]'), Text(0.7070938215102975, 0.425, 'Fare <= 9.492\\ngini = 0.133\\nsamples = 14\\nvalue = [13, 1]'), Text(0.6979405034324943, 0.375, 'gini = 0.0\\nsamples = 11\\nvalue = [11, 0]'), Text(0.7162471395881007, 0.375, 'Age <= 28.5\\ngini = 0.444\\nsamples = 3\\nvalue = [2, 1]'), Text(0.7070938215102975, 0.325, 'gini = 0.0\\nsamples = 2\\nvalue = [2, 0]'), Text(0.7254004576659039, 0.325, 'gini = 0.0\\nsamples = 1\\nvalue = [0, 1]'), Text(0.7254004576659039, 0.525, 'Fare <= 51.698\\ngini = 0.043\\nsamples = 46\\nvalue = [45, 1]'), Text(0.7162471395881007, 0.475, 'gini = 0.0\\nsamples = 41\\nvalue = [41, 0]'), Text(0.7345537757437071, 0.475, 'Pclass <= 2.5\\ngini = 0.32\\nsamples = 5\\nvalue = [4, 1]'), Text(0.7254004576659039, 0.425, 'gini = 0.0\\nsamples = 3\\nvalue = [3, 0]'), Text(0.7437070938215103, 0.425, 'Age <= 27.0\\ngini = 0.5\\nsamples = 2\\nvalue = [1, 1]'), Text(0.7345537757437071, 0.375, 'gini = 0.0\\nsamples = 1\\nvalue = [0, 1]'), Text(0.7528604118993135, 0.375, 'gini = 0.0\\nsamples = 1\\nvalue = [1, 0]'), Text(0.7803203661327232, 0.675, 'Fare <= 7.742\\ngini = 0.434\\nsamples = 22\\nvalue = [15, 7]'), Text(0.7620137299771167, 0.625, 'Age <= 22.75\\ngini = 0.298\\nsamples = 11\\nvalue = [9, 2]'), Text(0.7528604118993135, 0.575, 'Fare <= 7.227\\ngini = 0.444\\nsamples = 6\\nvalue = [4, 2]'), Text(0.7437070938215103, 0.525, 'gini = 0.0\\nsamples = 1\\nvalue = [0, 1]'), Text(0.7620137299771167, 0.525, 'Age <= 18.5\\ngini = 0.32\\nsamples = 5\\nvalue = [4, 1]'), Text(0.7528604118993135, 0.475, 'gini = 0.0\\nsamples = 2\\nvalue = [2, 0]'), Text(0.7711670480549199, 0.475, 'Age <= 20.5\\ngini = 0.444\\nsamples = 3\\nvalue = [2, 1]'), Text(0.7620137299771167, 0.425, 'gini = 0.0\\nsamples = 1\\nvalue = [0, 1]'), Text(0.7803203661327232, 0.425, 'gini = 0.0\\nsamples = 2\\nvalue = [2, 0]'), Text(0.7711670480549199, 0.575, 'gini = 0.0\\nsamples = 5\\nvalue = [5, 0]'), Text(0.7986270022883295, 0.625, 'Fare <= 12.848\\ngini = 0.496\\nsamples = 11\\nvalue = [6, 5]'), Text(0.7894736842105263, 0.575, 'gini = 0.0\\nsamples = 3\\nvalue = [0, 3]'), Text(0.8077803203661327, 0.575, 'Age <= 26.5\\ngini = 0.375\\nsamples = 8\\nvalue = [6, 2]'), Text(0.7986270022883295, 0.525, 'Age <= 15.5\\ngini = 0.48\\nsamples = 5\\nvalue = [3, 2]'), Text(0.7894736842105263, 0.475, 'gini = 0.0\\nsamples = 2\\nvalue = [2, 0]'), Text(0.8077803203661327, 0.475, 'Fare <= 15.394\\ngini = 0.444\\nsamples = 3\\nvalue = [1, 2]'), Text(0.7986270022883295, 0.425, 'gini = 0.0\\nsamples = 1\\nvalue = [1, 0]'), Text(0.816933638443936, 0.425, 'gini = 0.0\\nsamples = 2\\nvalue = [0, 2]'), Text(0.816933638443936, 0.525, 'gini = 0.0\\nsamples = 3\\nvalue = [3, 0]'), Text(0.8810068649885584, 0.725, 'Embarked <= 0.5\\ngini = 0.475\\nsamples = 18\\nvalue = [11, 7]'), Text(0.8718535469107551, 0.675, 'Fare <= 20.925\\ngini = 0.498\\nsamples = 15\\nvalue = [8, 7]'), Text(0.8535469107551488, 0.625, 'Fare <= 7.815\\ngini = 0.463\\nsamples = 11\\nvalue = [7, 4]'), Text(0.8443935926773455, 0.575, 'gini = 0.0\\nsamples = 1\\nvalue = [1, 0]'), Text(0.8627002288329519, 0.575, 'Fare <= 7.875\\ngini = 0.48\\nsamples = 10\\nvalue = [6, 4]'), Text(0.8535469107551488, 0.525, 'gini = 0.0\\nsamples = 1\\nvalue = [0, 1]'), Text(0.8718535469107551, 0.525, 'Age <= 31.5\\ngini = 0.444\\nsamples = 9\\nvalue = [6, 3]'), Text(0.8443935926773455, 0.475, 'Fare <= 9.213\\ngini = 0.444\\nsamples = 3\\nvalue = [1, 2]'), Text(0.8352402745995423, 0.425, 'gini = 0.0\\nsamples = 1\\nvalue = [0, 1]'), Text(0.8535469107551488, 0.425, 'Fare <= 11.75\\ngini = 0.5\\nsamples = 2\\nvalue = [1, 1]'), Text(0.8443935926773455, 0.375, 'gini = 0.0\\nsamples = 1\\nvalue = [1, 0]'), Text(0.8627002288329519, 0.375, 'gini = 0.0\\nsamples = 1\\nvalue = [0, 1]'), Text(0.8993135011441648, 0.475, 'Fare <= 8.144\\ngini = 0.278\\nsamples = 6\\nvalue = [5, 1]'), Text(0.8901601830663616, 0.425, 'Fare <= 7.91\\ngini = 0.375\\nsamples = 4\\nvalue = [3, 1]'), Text(0.8810068649885584, 0.375, 'gini = 0.0\\nsamples = 1\\nvalue = [1, 0]'), Text(0.8993135011441648, 0.375, 'gini = 0.444\\nsamples = 3\\nvalue = [2, 1]'), Text(0.9084668192219679, 0.425, 'gini = 0.0\\nsamples = 2\\nvalue = [2, 0]'), Text(0.8901601830663616, 0.625, 'SibSp <= 1.5\\ngini = 0.375\\nsamples = 4\\nvalue = [1, 3]'), Text(0.8810068649885584, 0.575, 'gini = 0.0\\nsamples = 3\\nvalue = [0, 3]'), Text(0.8993135011441648, 0.575, 'gini = 0.0\\nsamples = 1\\nvalue = [1, 0]'), Text(0.8901601830663616, 0.675, 'gini = 0.0\\nsamples = 3\\nvalue = [3, 0]'), Text(0.9450800915331807, 0.775, 'Fare <= 11.387\\ngini = 0.092\\nsamples = 83\\nvalue = [79, 4]'), Text(0.9359267734553776, 0.725, 'Fare <= 7.91\\ngini = 0.15\\nsamples = 49\\nvalue = [45, 4]'), Text(0.9267734553775744, 0.675, 'gini = 0.0\\nsamples = 28\\nvalue = [28, 0]'), Text(0.9450800915331807, 0.675, 'Fare <= 7.988\\ngini = 0.308\\nsamples = 21\\nvalue = [17, 4]'), Text(0.9267734553775744, 0.625, 'Age <= 38.0\\ngini = 0.444\\nsamples = 3\\nvalue = [1, 2]'), Text(0.9176201372997712, 0.575, 'gini = 0.0\\nsamples = 1\\nvalue = [1, 0]'), Text(0.9359267734553776, 0.575, 'gini = 0.0\\nsamples = 2\\nvalue = [0, 2]'), Text(0.9633867276887872, 0.625, 'Age <= 44.5\\ngini = 0.198\\nsamples = 18\\nvalue = [16, 2]'), Text(0.954233409610984, 0.575, 'gini = 0.0\\nsamples = 11\\nvalue = [11, 0]'), Text(0.9725400457665904, 0.575, 'Age <= 46.0\\ngini = 0.408\\nsamples = 7\\nvalue = [5, 2]'), Text(0.9633867276887872, 0.525, 'gini = 0.0\\nsamples = 1\\nvalue = [0, 1]'), Text(0.9816933638443935, 0.525, 'Pclass <= 2.5\\ngini = 0.278\\nsamples = 6\\nvalue = [5, 1]'), Text(0.9725400457665904, 0.475, 'Age <= 64.0\\ngini = 0.444\\nsamples = 3\\nvalue = [2, 1]'), Text(0.9633867276887872, 0.425, 'gini = 0.0\\nsamples = 1\\nvalue = [0, 1]'), Text(0.9816933638443935, 0.425, 'gini = 0.0\\nsamples = 2\\nvalue = [2, 0]'), Text(0.9908466819221968, 0.475, 'gini = 0.0\\nsamples = 3\\nvalue = [3, 0]'), Text(0.954233409610984, 0.725, 'gini = 0.0\\nsamples = 34\\nvalue = [34, 0]')]\n"
     ]
    }
   ],
   "source": [
    "feature_name = ['Pclass', 'Sex', 'Age', 'SibSp', 'Parch', 'Fare', 'Embarked']\n",
    "view_tree = tree.plot_tree(dtree, feature_names=feature_name)\n",
    "print(view_tree)"
   ]
  }
 ],
 "metadata": {
  "kernelspec": {
   "display_name": "Python 3",
   "language": "python",
   "name": "python3"
  },
  "language_info": {
   "codemirror_mode": {
    "name": "ipython",
    "version": 3
   },
   "file_extension": ".py",
   "mimetype": "text/x-python",
   "name": "python",
   "nbconvert_exporter": "python",
   "pygments_lexer": "ipython3",
   "version": "3.11.4"
  }
 },
 "nbformat": 4,
 "nbformat_minor": 2
}
