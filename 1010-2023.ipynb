{
 "cells": [
  {
   "cell_type": "markdown",
   "metadata": {},
   "source": [
    "ex1:\n",
    "1. Tìm hyperparams cho các model sử dụng GridSearch.\n",
    "2. So sánh và giải thích kết quả tìm được\n",
    "\n",
    "ex2:\n",
    "1. Train kfold cross validation cho các model trên (lưu ý sử dụng default model). n_splits = 5, split trên tập X_train, y_train. Tính mse loss và accuracy ở từng bước train\n",
    "2. So sánh kết quả trên bộ test"
   ]
  }
 ],
 "metadata": {
  "kernelspec": {
   "display_name": "Python 3",
   "language": "python",
   "name": "python3"
  },
  "language_info": {
   "codemirror_mode": {
    "name": "ipython",
    "version": 3
   },
   "file_extension": ".py",
   "mimetype": "text/x-python",
   "name": "python",
   "nbconvert_exporter": "python",
   "pygments_lexer": "ipython3",
   "version": "3.11.4"
  }
 },
 "nbformat": 4,
 "nbformat_minor": 2
}
